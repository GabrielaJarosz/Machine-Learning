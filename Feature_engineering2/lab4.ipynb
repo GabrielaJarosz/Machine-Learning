{
 "cells": [
  {
   "cell_type": "code",
   "execution_count": 63,
   "metadata": {
    "collapsed": true
   },
   "outputs": [],
   "source": [
    "import pandas as pd\n",
    "import numpy as np"
   ]
  },
  {
   "cell_type": "code",
   "execution_count": 64,
   "outputs": [
    {
     "data": {
      "text/plain": "    Unnamed: 0  pclass  survived  \\\n0            0       1         1   \n1            1       1         1   \n2            2       1         0   \n3            3       1         0   \n4            4       1         0   \n5            5       1         1   \n6            6       1         1   \n7            7       1         0   \n8            8       1         1   \n9            9       1         0   \n10          10       1         0   \n11          11       1         1   \n12          12       1         1   \n13          13       1         1   \n14          14       1         1   \n15          15       1         0   \n16          16       1         0   \n17          17       1         1   \n18          18       1         1   \n19          19       1         0   \n\n                                                 name     sex      age  sibsp  \\\n0                       Allen, Miss. Elisabeth Walton  female  29.0000      0   \n1                      Allison, Master. Hudson Trevor    male   0.9167      1   \n2                        Allison, Miss. Helen Loraine  female   2.0000      1   \n3                Allison, Mr. Hudson Joshua Creighton    male  30.0000      1   \n4     Allison, Mrs. Hudson J C (Bessie Waldo Daniels)  female  25.0000      1   \n5                                 Anderson, Mr. Harry    male  48.0000      0   \n6                   Andrews, Miss. Kornelia Theodosia  female  63.0000      1   \n7                              Andrews, Mr. Thomas Jr    male  39.0000      0   \n8       Appleton, Mrs. Edward Dale (Charlotte Lamson)  female  53.0000      2   \n9                             Artagaveytia, Mr. Ramon    male  71.0000      0   \n10                             Astor, Col. John Jacob    male  47.0000      1   \n11  Astor, Mrs. John Jacob (Madeleine Talmadge Force)  female  18.0000      1   \n12                      Aubart, Mme. Leontine Pauline  female  24.0000      0   \n13                       Barber, Miss. Ellen 'Nellie'  female  26.0000      0   \n14               Barkworth, Mr. Algernon Henry Wilson    male  80.0000      0   \n15                                Baumann, Mr. John D    male      NaN      0   \n16                           Baxter, Mr. Quigg Edmond    male  24.0000      0   \n17    Baxter, Mrs. James (Helene DeLaudeniere Chaput)  female  50.0000      0   \n18                              Bazzani, Miss. Albina  female  32.0000      0   \n19                               Beattie, Mr. Thomson    male  36.0000      0   \n\n    parch    ticket      fare    cabin embarked boat   body  \\\n0       0     24160  211.3375       B5        S    2    NaN   \n1       2    113781  151.5500  C22 C26        S   11    NaN   \n2       2    113781  151.5500  C22 C26        S  NaN    NaN   \n3       2    113781  151.5500  C22 C26        S  NaN  135.0   \n4       2    113781  151.5500  C22 C26        S  NaN    NaN   \n5       0     19952   26.5500      E12        S    3    NaN   \n6       0     13502   77.9583       D7        S   10    NaN   \n7       0    112050    0.0000      A36        S  NaN    NaN   \n8       0     11769   51.4792     C101        S    D    NaN   \n9       0  PC 17609   49.5042      NaN        C  NaN   22.0   \n10      0  PC 17757  227.5250  C62 C64        C  NaN  124.0   \n11      0  PC 17757  227.5250  C62 C64        C    4    NaN   \n12      0  PC 17477   69.3000      B35        C    9    NaN   \n13      0     19877   78.8500      NaN        S    6    NaN   \n14      0     27042   30.0000      A23        S    B    NaN   \n15      0  PC 17318   25.9250      NaN        S  NaN    NaN   \n16      1  PC 17558  247.5208  B58 B60        C  NaN    NaN   \n17      1  PC 17558  247.5208  B58 B60        C    6    NaN   \n18      0     11813   76.2917      D15        C    8    NaN   \n19      0     13050   75.2417       C6        C    A    NaN   \n\n                          home.dest  ageNull  \n0                      St Louis, MO        0  \n1   Montreal, PQ / Chesterville, ON        0  \n2   Montreal, PQ / Chesterville, ON        0  \n3   Montreal, PQ / Chesterville, ON        0  \n4   Montreal, PQ / Chesterville, ON        0  \n5                      New York, NY        0  \n6                        Hudson, NY        0  \n7                       Belfast, NI        0  \n8               Bayside, Queens, NY        0  \n9               Montevideo, Uruguay        0  \n10                     New York, NY        0  \n11                     New York, NY        0  \n12                    Paris, France        0  \n13                              NaN        0  \n14                    Hessle, Yorks        0  \n15                     New York, NY        1  \n16                     Montreal, PQ        0  \n17                     Montreal, PQ        0  \n18                              NaN        0  \n19                     Winnipeg, MN        0  ",
      "text/html": "<div>\n<style scoped>\n    .dataframe tbody tr th:only-of-type {\n        vertical-align: middle;\n    }\n\n    .dataframe tbody tr th {\n        vertical-align: top;\n    }\n\n    .dataframe thead th {\n        text-align: right;\n    }\n</style>\n<table border=\"1\" class=\"dataframe\">\n  <thead>\n    <tr style=\"text-align: right;\">\n      <th></th>\n      <th>Unnamed: 0</th>\n      <th>pclass</th>\n      <th>survived</th>\n      <th>name</th>\n      <th>sex</th>\n      <th>age</th>\n      <th>sibsp</th>\n      <th>parch</th>\n      <th>ticket</th>\n      <th>fare</th>\n      <th>cabin</th>\n      <th>embarked</th>\n      <th>boat</th>\n      <th>body</th>\n      <th>home.dest</th>\n      <th>ageNull</th>\n    </tr>\n  </thead>\n  <tbody>\n    <tr>\n      <th>0</th>\n      <td>0</td>\n      <td>1</td>\n      <td>1</td>\n      <td>Allen, Miss. Elisabeth Walton</td>\n      <td>female</td>\n      <td>29.0000</td>\n      <td>0</td>\n      <td>0</td>\n      <td>24160</td>\n      <td>211.3375</td>\n      <td>B5</td>\n      <td>S</td>\n      <td>2</td>\n      <td>NaN</td>\n      <td>St Louis, MO</td>\n      <td>0</td>\n    </tr>\n    <tr>\n      <th>1</th>\n      <td>1</td>\n      <td>1</td>\n      <td>1</td>\n      <td>Allison, Master. Hudson Trevor</td>\n      <td>male</td>\n      <td>0.9167</td>\n      <td>1</td>\n      <td>2</td>\n      <td>113781</td>\n      <td>151.5500</td>\n      <td>C22 C26</td>\n      <td>S</td>\n      <td>11</td>\n      <td>NaN</td>\n      <td>Montreal, PQ / Chesterville, ON</td>\n      <td>0</td>\n    </tr>\n    <tr>\n      <th>2</th>\n      <td>2</td>\n      <td>1</td>\n      <td>0</td>\n      <td>Allison, Miss. Helen Loraine</td>\n      <td>female</td>\n      <td>2.0000</td>\n      <td>1</td>\n      <td>2</td>\n      <td>113781</td>\n      <td>151.5500</td>\n      <td>C22 C26</td>\n      <td>S</td>\n      <td>NaN</td>\n      <td>NaN</td>\n      <td>Montreal, PQ / Chesterville, ON</td>\n      <td>0</td>\n    </tr>\n    <tr>\n      <th>3</th>\n      <td>3</td>\n      <td>1</td>\n      <td>0</td>\n      <td>Allison, Mr. Hudson Joshua Creighton</td>\n      <td>male</td>\n      <td>30.0000</td>\n      <td>1</td>\n      <td>2</td>\n      <td>113781</td>\n      <td>151.5500</td>\n      <td>C22 C26</td>\n      <td>S</td>\n      <td>NaN</td>\n      <td>135.0</td>\n      <td>Montreal, PQ / Chesterville, ON</td>\n      <td>0</td>\n    </tr>\n    <tr>\n      <th>4</th>\n      <td>4</td>\n      <td>1</td>\n      <td>0</td>\n      <td>Allison, Mrs. Hudson J C (Bessie Waldo Daniels)</td>\n      <td>female</td>\n      <td>25.0000</td>\n      <td>1</td>\n      <td>2</td>\n      <td>113781</td>\n      <td>151.5500</td>\n      <td>C22 C26</td>\n      <td>S</td>\n      <td>NaN</td>\n      <td>NaN</td>\n      <td>Montreal, PQ / Chesterville, ON</td>\n      <td>0</td>\n    </tr>\n    <tr>\n      <th>5</th>\n      <td>5</td>\n      <td>1</td>\n      <td>1</td>\n      <td>Anderson, Mr. Harry</td>\n      <td>male</td>\n      <td>48.0000</td>\n      <td>0</td>\n      <td>0</td>\n      <td>19952</td>\n      <td>26.5500</td>\n      <td>E12</td>\n      <td>S</td>\n      <td>3</td>\n      <td>NaN</td>\n      <td>New York, NY</td>\n      <td>0</td>\n    </tr>\n    <tr>\n      <th>6</th>\n      <td>6</td>\n      <td>1</td>\n      <td>1</td>\n      <td>Andrews, Miss. Kornelia Theodosia</td>\n      <td>female</td>\n      <td>63.0000</td>\n      <td>1</td>\n      <td>0</td>\n      <td>13502</td>\n      <td>77.9583</td>\n      <td>D7</td>\n      <td>S</td>\n      <td>10</td>\n      <td>NaN</td>\n      <td>Hudson, NY</td>\n      <td>0</td>\n    </tr>\n    <tr>\n      <th>7</th>\n      <td>7</td>\n      <td>1</td>\n      <td>0</td>\n      <td>Andrews, Mr. Thomas Jr</td>\n      <td>male</td>\n      <td>39.0000</td>\n      <td>0</td>\n      <td>0</td>\n      <td>112050</td>\n      <td>0.0000</td>\n      <td>A36</td>\n      <td>S</td>\n      <td>NaN</td>\n      <td>NaN</td>\n      <td>Belfast, NI</td>\n      <td>0</td>\n    </tr>\n    <tr>\n      <th>8</th>\n      <td>8</td>\n      <td>1</td>\n      <td>1</td>\n      <td>Appleton, Mrs. Edward Dale (Charlotte Lamson)</td>\n      <td>female</td>\n      <td>53.0000</td>\n      <td>2</td>\n      <td>0</td>\n      <td>11769</td>\n      <td>51.4792</td>\n      <td>C101</td>\n      <td>S</td>\n      <td>D</td>\n      <td>NaN</td>\n      <td>Bayside, Queens, NY</td>\n      <td>0</td>\n    </tr>\n    <tr>\n      <th>9</th>\n      <td>9</td>\n      <td>1</td>\n      <td>0</td>\n      <td>Artagaveytia, Mr. Ramon</td>\n      <td>male</td>\n      <td>71.0000</td>\n      <td>0</td>\n      <td>0</td>\n      <td>PC 17609</td>\n      <td>49.5042</td>\n      <td>NaN</td>\n      <td>C</td>\n      <td>NaN</td>\n      <td>22.0</td>\n      <td>Montevideo, Uruguay</td>\n      <td>0</td>\n    </tr>\n    <tr>\n      <th>10</th>\n      <td>10</td>\n      <td>1</td>\n      <td>0</td>\n      <td>Astor, Col. John Jacob</td>\n      <td>male</td>\n      <td>47.0000</td>\n      <td>1</td>\n      <td>0</td>\n      <td>PC 17757</td>\n      <td>227.5250</td>\n      <td>C62 C64</td>\n      <td>C</td>\n      <td>NaN</td>\n      <td>124.0</td>\n      <td>New York, NY</td>\n      <td>0</td>\n    </tr>\n    <tr>\n      <th>11</th>\n      <td>11</td>\n      <td>1</td>\n      <td>1</td>\n      <td>Astor, Mrs. John Jacob (Madeleine Talmadge Force)</td>\n      <td>female</td>\n      <td>18.0000</td>\n      <td>1</td>\n      <td>0</td>\n      <td>PC 17757</td>\n      <td>227.5250</td>\n      <td>C62 C64</td>\n      <td>C</td>\n      <td>4</td>\n      <td>NaN</td>\n      <td>New York, NY</td>\n      <td>0</td>\n    </tr>\n    <tr>\n      <th>12</th>\n      <td>12</td>\n      <td>1</td>\n      <td>1</td>\n      <td>Aubart, Mme. Leontine Pauline</td>\n      <td>female</td>\n      <td>24.0000</td>\n      <td>0</td>\n      <td>0</td>\n      <td>PC 17477</td>\n      <td>69.3000</td>\n      <td>B35</td>\n      <td>C</td>\n      <td>9</td>\n      <td>NaN</td>\n      <td>Paris, France</td>\n      <td>0</td>\n    </tr>\n    <tr>\n      <th>13</th>\n      <td>13</td>\n      <td>1</td>\n      <td>1</td>\n      <td>Barber, Miss. Ellen 'Nellie'</td>\n      <td>female</td>\n      <td>26.0000</td>\n      <td>0</td>\n      <td>0</td>\n      <td>19877</td>\n      <td>78.8500</td>\n      <td>NaN</td>\n      <td>S</td>\n      <td>6</td>\n      <td>NaN</td>\n      <td>NaN</td>\n      <td>0</td>\n    </tr>\n    <tr>\n      <th>14</th>\n      <td>14</td>\n      <td>1</td>\n      <td>1</td>\n      <td>Barkworth, Mr. Algernon Henry Wilson</td>\n      <td>male</td>\n      <td>80.0000</td>\n      <td>0</td>\n      <td>0</td>\n      <td>27042</td>\n      <td>30.0000</td>\n      <td>A23</td>\n      <td>S</td>\n      <td>B</td>\n      <td>NaN</td>\n      <td>Hessle, Yorks</td>\n      <td>0</td>\n    </tr>\n    <tr>\n      <th>15</th>\n      <td>15</td>\n      <td>1</td>\n      <td>0</td>\n      <td>Baumann, Mr. John D</td>\n      <td>male</td>\n      <td>NaN</td>\n      <td>0</td>\n      <td>0</td>\n      <td>PC 17318</td>\n      <td>25.9250</td>\n      <td>NaN</td>\n      <td>S</td>\n      <td>NaN</td>\n      <td>NaN</td>\n      <td>New York, NY</td>\n      <td>1</td>\n    </tr>\n    <tr>\n      <th>16</th>\n      <td>16</td>\n      <td>1</td>\n      <td>0</td>\n      <td>Baxter, Mr. Quigg Edmond</td>\n      <td>male</td>\n      <td>24.0000</td>\n      <td>0</td>\n      <td>1</td>\n      <td>PC 17558</td>\n      <td>247.5208</td>\n      <td>B58 B60</td>\n      <td>C</td>\n      <td>NaN</td>\n      <td>NaN</td>\n      <td>Montreal, PQ</td>\n      <td>0</td>\n    </tr>\n    <tr>\n      <th>17</th>\n      <td>17</td>\n      <td>1</td>\n      <td>1</td>\n      <td>Baxter, Mrs. James (Helene DeLaudeniere Chaput)</td>\n      <td>female</td>\n      <td>50.0000</td>\n      <td>0</td>\n      <td>1</td>\n      <td>PC 17558</td>\n      <td>247.5208</td>\n      <td>B58 B60</td>\n      <td>C</td>\n      <td>6</td>\n      <td>NaN</td>\n      <td>Montreal, PQ</td>\n      <td>0</td>\n    </tr>\n    <tr>\n      <th>18</th>\n      <td>18</td>\n      <td>1</td>\n      <td>1</td>\n      <td>Bazzani, Miss. Albina</td>\n      <td>female</td>\n      <td>32.0000</td>\n      <td>0</td>\n      <td>0</td>\n      <td>11813</td>\n      <td>76.2917</td>\n      <td>D15</td>\n      <td>C</td>\n      <td>8</td>\n      <td>NaN</td>\n      <td>NaN</td>\n      <td>0</td>\n    </tr>\n    <tr>\n      <th>19</th>\n      <td>19</td>\n      <td>1</td>\n      <td>0</td>\n      <td>Beattie, Mr. Thomson</td>\n      <td>male</td>\n      <td>36.0000</td>\n      <td>0</td>\n      <td>0</td>\n      <td>13050</td>\n      <td>75.2417</td>\n      <td>C6</td>\n      <td>C</td>\n      <td>A</td>\n      <td>NaN</td>\n      <td>Winnipeg, MN</td>\n      <td>0</td>\n    </tr>\n  </tbody>\n</table>\n</div>"
     },
     "execution_count": 64,
     "metadata": {},
     "output_type": "execute_result"
    }
   ],
   "source": [
    "Titanic = pd.read_csv('Titanic2.csv')\n",
    "Titanic.head(20)"
   ],
   "metadata": {
    "collapsed": false
   }
  },
  {
   "cell_type": "markdown",
   "source": [
    "### 1. Sprawdź liczebność poszczególnych etykiet dla danych zmiennych jakościowych\n"
   ],
   "metadata": {
    "collapsed": false
   }
  },
  {
   "cell_type": "code",
   "execution_count": 65,
   "outputs": [
    {
     "name": "stdout",
     "output_type": "stream",
     "text": [
      "Liczba etykiet zmiennej name: 1307\n",
      "Liczba etykiet zmiennej pclass: 3\n",
      "Liczba etykiet zmiennej sibsp: 7\n",
      "Liczba etykiet zmiennej sex: 2\n",
      "Liczba etykiet zmiennej parch: 8\n",
      "Liczba etykiet zmiennej embarked: 4\n",
      "Liczba etykiet zmiennej cabin: 187\n",
      "Liczba etykiet zmiennej boat: 28\n",
      "Liczba etykiet zmiennej home.dest: 370\n"
     ]
    }
   ],
   "source": [
    "#for col in Titanic:\n",
    "    #print('Liczba etykiet zmiennej {}: {}'.format(col,len(Titanic[col].unique())))\n",
    "\n",
    "print('Liczba etykiet zmiennej name: {}'.format(len(Titanic.name.unique())))\n",
    "print('Liczba etykiet zmiennej pclass: {}'.format(len(Titanic.pclass.unique())))\n",
    "print('Liczba etykiet zmiennej sibsp: {}'.format(len(Titanic.sibsp.unique())))\n",
    "print('Liczba etykiet zmiennej sex: {}'.format(len(Titanic.sex.unique())))\n",
    "print('Liczba etykiet zmiennej parch: {}'.format(len(Titanic.parch.unique())))\n",
    "print('Liczba etykiet zmiennej embarked: {}'.format(len(Titanic.embarked.unique())))\n",
    "print('Liczba etykiet zmiennej cabin: {}'.format(len(Titanic.cabin.unique())))\n",
    "print('Liczba etykiet zmiennej boat: {}'.format(len(Titanic.boat.unique())))\n",
    "print('Liczba etykiet zmiennej home.dest: {}'.format(len(Titanic['home.dest'].unique())))"
   ],
   "metadata": {
    "collapsed": false
   }
  },
  {
   "cell_type": "markdown",
   "source": [
    "### 2. Wyświetl z użyciem funkcji print liczbę wszystkich pasażerów.\n",
    "### Wykorzystaj podobny sposób jak w punkcie 1.\n",
    "\n"
   ],
   "metadata": {
    "collapsed": false
   }
  },
  {
   "cell_type": "code",
   "execution_count": 66,
   "outputs": [
    {
     "name": "stdout",
     "output_type": "stream",
     "text": [
      "Liczba pasażerów: 1309\n"
     ]
    }
   ],
   "source": [
    "print('Liczba pasażerów: {}'.format(len(Titanic)))"
   ],
   "metadata": {
    "collapsed": false
   }
  },
  {
   "cell_type": "markdown",
   "source": [
    "### 3. Skomentuj wyniki otrzymane w punkcie 1 i 2. Podziel zmienne ze\n",
    "### względu na dużą i małą moc zbioru (kardynalność).\n",
    "\n",
    "Analizując powyższe, można stwierdzić, że największą liczbność etykiet ma zmienna name. Niektóre zmienne tak jak płeć mają tylko 2 etykiety. Liczba pasażerów to 1309 osób.\n",
    "Zmienne z dużą mocą zbioru: name, cabin, home.dest.\n",
    "Zmienne z małą mocą zbioru: pclass, sibsp, sex, parche, embarked, boat."
   ],
   "metadata": {
    "collapsed": false
   }
  },
  {
   "cell_type": "markdown",
   "source": [
    "### 4. Sprawdź, ile unikalnych etykiet ma zmienna mówiąca o kabinie danego\n",
    "### pasażera. Użyj takiej funkcji, która zwraca wynik w postaci NumPy array."
   ],
   "metadata": {
    "collapsed": false
   }
  },
  {
   "cell_type": "code",
   "execution_count": 67,
   "outputs": [
    {
     "name": "stdout",
     "output_type": "stream",
     "text": [
      "Liczba unikalnych etykiet zmiennej mówiącej o kabinie danego pasażera: 187\n"
     ]
    }
   ],
   "source": [
    "print('Liczba unikalnych etykiet zmiennej mówiącej o kabinie danego pasażera: {}'.format(len(Titanic['cabin'].unique())))"
   ],
   "metadata": {
    "collapsed": false
   }
  },
  {
   "cell_type": "code",
   "execution_count": 68,
   "outputs": [
    {
     "name": "stdout",
     "output_type": "stream",
     "text": [
      "<class 'numpy.ndarray'>\n"
     ]
    }
   ],
   "source": [
    "print(type(Titanic['cabin'].unique()))"
   ],
   "metadata": {
    "collapsed": false
   }
  },
  {
   "cell_type": "code",
   "execution_count": 69,
   "outputs": [
    {
     "data": {
      "text/plain": "array(['B5', 'C22 C26', 'E12', 'D7', 'A36', 'C101', nan, 'C62 C64', 'B35',\n       'A23', 'B58 B60', 'D15', 'C6', 'D35', 'C148', 'C97', 'B49', 'C99',\n       'C52', 'T', 'A31', 'C7', 'C103', 'D22', 'E33', 'A21', 'B10', 'B4',\n       'E40', 'B38', 'E24', 'B51 B53 B55', 'B96 B98', 'C46', 'E31', 'E8',\n       'B61', 'B77', 'A9', 'C89', 'A14', 'E58', 'E49', 'E52', 'E45',\n       'B22', 'B26', 'C85', 'E17', 'B71', 'B20', 'A34', 'C86', 'A16',\n       'A20', 'A18', 'C54', 'C45', 'D20', 'A29', 'C95', 'E25', 'C111',\n       'C23 C25 C27', 'E36', 'D34', 'D40', 'B39', 'B41', 'B102', 'C123',\n       'E63', 'C130', 'B86', 'C92', 'A5', 'C51', 'B42', 'C91', 'C125',\n       'D10 D12', 'B82 B84', 'E50', 'D33', 'C83', 'B94', 'D49', 'D45',\n       'B69', 'B11', 'E46', 'C39', 'B18', 'D11', 'C93', 'B28', 'C49',\n       'B52 B54 B56', 'E60', 'C132', 'B37', 'D21', 'D19', 'C124', 'D17',\n       'B101', 'D28', 'D6', 'D9', 'B80', 'C106', 'B79', 'C47', 'D30',\n       'C90', 'E38', 'C78', 'C30', 'C118', 'D36', 'D48', 'D47', 'C105',\n       'B36', 'B30', 'D43', 'B24', 'C2', 'C65', 'B73', 'C104', 'C110',\n       'C50', 'B3', 'A24', 'A32', 'A11', 'A10', 'B57 B59 B63 B66', 'C28',\n       'E44', 'A26', 'A6', 'A7', 'C31', 'A19', 'B45', 'E34', 'B78', 'B50',\n       'C87', 'C116', 'C55 C57', 'D50', 'E68', 'E67', 'C126', 'C68',\n       'C70', 'C53', 'B19', 'D46', 'D37', 'D26', 'C32', 'C80', 'C82',\n       'C128', 'E39 E41', 'D', 'F4', 'D56', 'F33', 'E101', 'E77', 'F2',\n       'D38', 'F', 'F G63', 'F E57', 'F E46', 'F G73', 'E121', 'F E69',\n       'E10', 'G6', 'F38'], dtype=object)"
     },
     "execution_count": 69,
     "metadata": {},
     "output_type": "execute_result"
    }
   ],
   "source": [
    "Titanic['cabin'].unique()"
   ],
   "metadata": {
    "collapsed": false
   }
  },
  {
   "cell_type": "markdown",
   "source": [
    "### 5. Zredukuj liczbę cech dla zmiennej opisującej kabiny poprzez zastąpienie obecnych etykiet w formacie PP11 do etykiet zawierających tylko pierwszą literę. Użyj astype(str).str[pozycja]. Nową zmienną nazwij CabinReduced. Wyświetl pierwsze 25 wierszy zbioru danych dla kolumn Cabin i CabinReduced\n"
   ],
   "metadata": {
    "collapsed": false
   }
  },
  {
   "cell_type": "code",
   "execution_count": 70,
   "outputs": [],
   "source": [
    "Titanic['CabinReduced'] = Titanic['cabin'].astype(str).str[0]"
   ],
   "metadata": {
    "collapsed": false
   }
  },
  {
   "cell_type": "code",
   "execution_count": 71,
   "outputs": [
    {
     "data": {
      "text/plain": "      cabin CabinReduced\n0        B5            B\n1   C22 C26            C\n2   C22 C26            C\n3   C22 C26            C\n4   C22 C26            C\n5       E12            E\n6        D7            D\n7       A36            A\n8      C101            C\n9       NaN            n\n10  C62 C64            C\n11  C62 C64            C\n12      B35            B\n13      NaN            n\n14      A23            A\n15      NaN            n\n16  B58 B60            B\n17  B58 B60            B\n18      D15            D\n19       C6            C",
      "text/html": "<div>\n<style scoped>\n    .dataframe tbody tr th:only-of-type {\n        vertical-align: middle;\n    }\n\n    .dataframe tbody tr th {\n        vertical-align: top;\n    }\n\n    .dataframe thead th {\n        text-align: right;\n    }\n</style>\n<table border=\"1\" class=\"dataframe\">\n  <thead>\n    <tr style=\"text-align: right;\">\n      <th></th>\n      <th>cabin</th>\n      <th>CabinReduced</th>\n    </tr>\n  </thead>\n  <tbody>\n    <tr>\n      <th>0</th>\n      <td>B5</td>\n      <td>B</td>\n    </tr>\n    <tr>\n      <th>1</th>\n      <td>C22 C26</td>\n      <td>C</td>\n    </tr>\n    <tr>\n      <th>2</th>\n      <td>C22 C26</td>\n      <td>C</td>\n    </tr>\n    <tr>\n      <th>3</th>\n      <td>C22 C26</td>\n      <td>C</td>\n    </tr>\n    <tr>\n      <th>4</th>\n      <td>C22 C26</td>\n      <td>C</td>\n    </tr>\n    <tr>\n      <th>5</th>\n      <td>E12</td>\n      <td>E</td>\n    </tr>\n    <tr>\n      <th>6</th>\n      <td>D7</td>\n      <td>D</td>\n    </tr>\n    <tr>\n      <th>7</th>\n      <td>A36</td>\n      <td>A</td>\n    </tr>\n    <tr>\n      <th>8</th>\n      <td>C101</td>\n      <td>C</td>\n    </tr>\n    <tr>\n      <th>9</th>\n      <td>NaN</td>\n      <td>n</td>\n    </tr>\n    <tr>\n      <th>10</th>\n      <td>C62 C64</td>\n      <td>C</td>\n    </tr>\n    <tr>\n      <th>11</th>\n      <td>C62 C64</td>\n      <td>C</td>\n    </tr>\n    <tr>\n      <th>12</th>\n      <td>B35</td>\n      <td>B</td>\n    </tr>\n    <tr>\n      <th>13</th>\n      <td>NaN</td>\n      <td>n</td>\n    </tr>\n    <tr>\n      <th>14</th>\n      <td>A23</td>\n      <td>A</td>\n    </tr>\n    <tr>\n      <th>15</th>\n      <td>NaN</td>\n      <td>n</td>\n    </tr>\n    <tr>\n      <th>16</th>\n      <td>B58 B60</td>\n      <td>B</td>\n    </tr>\n    <tr>\n      <th>17</th>\n      <td>B58 B60</td>\n      <td>B</td>\n    </tr>\n    <tr>\n      <th>18</th>\n      <td>D15</td>\n      <td>D</td>\n    </tr>\n    <tr>\n      <th>19</th>\n      <td>C6</td>\n      <td>C</td>\n    </tr>\n  </tbody>\n</table>\n</div>"
     },
     "execution_count": 71,
     "metadata": {},
     "output_type": "execute_result"
    }
   ],
   "source": [
    "Titanic[['cabin','CabinReduced']].head(20)"
   ],
   "metadata": {
    "collapsed": false
   }
  },
  {
   "cell_type": "markdown",
   "source": [
    "### 6. Wyświetl (jak w pkt 1) liczbę etykiet dla zmiennych z punkt 5. O ile\n",
    "### procent zredukowano kardynalność zbioru zmiennej opisującej kabiny?"
   ],
   "metadata": {
    "collapsed": false
   }
  },
  {
   "cell_type": "code",
   "execution_count": 72,
   "outputs": [
    {
     "name": "stdout",
     "output_type": "stream",
     "text": [
      "Liczba unikalnych etykiet zmiennej mówiącej o kabinie danego pasażera: 9\n",
      "Kardynalność zbioru zmiennej opisującej kabiny zredukowano o: 95.19 %\n"
     ]
    }
   ],
   "source": [
    "print('Liczba unikalnych etykiet zmiennej mówiącej o kabinie danego pasażera: {}'.format(len(Titanic['CabinReduced'].unique())))\n",
    "reduced=(1-len(Titanic.CabinReduced.unique())/len(Titanic.cabin.unique()))*100\n",
    "print('Kardynalność zbioru zmiennej opisującej kabiny zredukowano o: {} %'.format(round(reduced,2)))"
   ],
   "metadata": {
    "collapsed": false
   }
  },
  {
   "cell_type": "markdown",
   "source": [
    "### 7. Uzasadnij, dlaczego dokonujesz redukcji akurat tej zmiennej. Jak to\n",
    "### wpływa na przyszłe analizy. Czy powoduje jakieś negatywne skutki?\n",
    "\n",
    "Dokonuję redukcji tej zmiennej, ponieważ to znacząco ułatwi zadanie modelu ML. Analiza będzie szybsza i łatwiejsza, ponieważ model będzie miał tylko 9 etykiet, a nie jak przed redukcją - 187. Negatywnym skutkiem takiej redukcji może być utrata części informacji o dokładnym położeniu kabiny, ponieważ po redukcji otrzymujemy informację tylko o sektorze/klasie kabiny."
   ],
   "metadata": {
    "collapsed": false
   }
  },
  {
   "cell_type": "code",
   "execution_count": 73,
   "outputs": [],
   "source": [
    "Titanic.to_csv('Titanic3.csv')"
   ],
   "metadata": {
    "collapsed": false
   }
  }
 ],
 "metadata": {
  "kernelspec": {
   "name": "ml_moje",
   "language": "python",
   "display_name": "ml_moje"
  },
  "language_info": {
   "codemirror_mode": {
    "name": "ipython",
    "version": 2
   },
   "file_extension": ".py",
   "mimetype": "text/x-python",
   "name": "python",
   "nbconvert_exporter": "python",
   "pygments_lexer": "ipython2",
   "version": "2.7.6"
  }
 },
 "nbformat": 4,
 "nbformat_minor": 0
}
