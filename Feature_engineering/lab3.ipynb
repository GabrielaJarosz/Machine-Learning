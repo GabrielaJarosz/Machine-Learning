{
 "cells": [
  {
   "cell_type": "code",
   "execution_count": 2,
   "outputs": [],
   "source": [
    "import pandas as pd\n",
    "import numpy as np"
   ],
   "metadata": {
    "collapsed": false
   }
  },
  {
   "cell_type": "markdown",
   "source": [
    "### 1. Wczytaj zbiór danych Titanic"
   ],
   "metadata": {
    "collapsed": false
   }
  },
  {
   "cell_type": "code",
   "execution_count": 3,
   "outputs": [
    {
     "data": {
      "text/plain": "    pclass  survived                                               name  \\\n0        1         1                      Allen, Miss. Elisabeth Walton   \n1        1         1                     Allison, Master. Hudson Trevor   \n2        1         0                       Allison, Miss. Helen Loraine   \n3        1         0               Allison, Mr. Hudson Joshua Creighton   \n4        1         0    Allison, Mrs. Hudson J C (Bessie Waldo Daniels)   \n5        1         1                                Anderson, Mr. Harry   \n6        1         1                  Andrews, Miss. Kornelia Theodosia   \n7        1         0                             Andrews, Mr. Thomas Jr   \n8        1         1      Appleton, Mrs. Edward Dale (Charlotte Lamson)   \n9        1         0                            Artagaveytia, Mr. Ramon   \n10       1         0                             Astor, Col. John Jacob   \n11       1         1  Astor, Mrs. John Jacob (Madeleine Talmadge Force)   \n12       1         1                      Aubart, Mme. Leontine Pauline   \n13       1         1                       Barber, Miss. Ellen 'Nellie'   \n14       1         1               Barkworth, Mr. Algernon Henry Wilson   \n15       1         0                                Baumann, Mr. John D   \n16       1         0                           Baxter, Mr. Quigg Edmond   \n17       1         1    Baxter, Mrs. James (Helene DeLaudeniere Chaput)   \n18       1         1                              Bazzani, Miss. Albina   \n19       1         0                               Beattie, Mr. Thomson   \n\n       sex     age  sibsp  parch    ticket      fare    cabin embarked boat  \\\n0   female      29      0      0     24160  211.3375       B5        S    2   \n1     male  0.9167      1      2    113781    151.55  C22 C26        S   11   \n2   female       2      1      2    113781    151.55  C22 C26        S    ?   \n3     male      30      1      2    113781    151.55  C22 C26        S    ?   \n4   female      25      1      2    113781    151.55  C22 C26        S    ?   \n5     male      48      0      0     19952     26.55      E12        S    3   \n6   female      63      1      0     13502   77.9583       D7        S   10   \n7     male      39      0      0    112050         0      A36        S    ?   \n8   female      53      2      0     11769   51.4792     C101        S    D   \n9     male      71      0      0  PC 17609   49.5042        ?        C    ?   \n10    male      47      1      0  PC 17757   227.525  C62 C64        C    ?   \n11  female      18      1      0  PC 17757   227.525  C62 C64        C    4   \n12  female      24      0      0  PC 17477      69.3      B35        C    9   \n13  female      26      0      0     19877     78.85        ?        S    6   \n14    male      80      0      0     27042        30      A23        S    B   \n15    male       ?      0      0  PC 17318    25.925        ?        S    ?   \n16    male      24      0      1  PC 17558  247.5208  B58 B60        C    ?   \n17  female      50      0      1  PC 17558  247.5208  B58 B60        C    6   \n18  female      32      0      0     11813   76.2917      D15        C    8   \n19    male      36      0      0     13050   75.2417       C6        C    A   \n\n   body                        home.dest  \n0     ?                     St Louis, MO  \n1     ?  Montreal, PQ / Chesterville, ON  \n2     ?  Montreal, PQ / Chesterville, ON  \n3   135  Montreal, PQ / Chesterville, ON  \n4     ?  Montreal, PQ / Chesterville, ON  \n5     ?                     New York, NY  \n6     ?                       Hudson, NY  \n7     ?                      Belfast, NI  \n8     ?              Bayside, Queens, NY  \n9    22              Montevideo, Uruguay  \n10  124                     New York, NY  \n11    ?                     New York, NY  \n12    ?                    Paris, France  \n13    ?                                ?  \n14    ?                    Hessle, Yorks  \n15    ?                     New York, NY  \n16    ?                     Montreal, PQ  \n17    ?                     Montreal, PQ  \n18    ?                                ?  \n19    ?                     Winnipeg, MN  ",
      "text/html": "<div>\n<style scoped>\n    .dataframe tbody tr th:only-of-type {\n        vertical-align: middle;\n    }\n\n    .dataframe tbody tr th {\n        vertical-align: top;\n    }\n\n    .dataframe thead th {\n        text-align: right;\n    }\n</style>\n<table border=\"1\" class=\"dataframe\">\n  <thead>\n    <tr style=\"text-align: right;\">\n      <th></th>\n      <th>pclass</th>\n      <th>survived</th>\n      <th>name</th>\n      <th>sex</th>\n      <th>age</th>\n      <th>sibsp</th>\n      <th>parch</th>\n      <th>ticket</th>\n      <th>fare</th>\n      <th>cabin</th>\n      <th>embarked</th>\n      <th>boat</th>\n      <th>body</th>\n      <th>home.dest</th>\n    </tr>\n  </thead>\n  <tbody>\n    <tr>\n      <th>0</th>\n      <td>1</td>\n      <td>1</td>\n      <td>Allen, Miss. Elisabeth Walton</td>\n      <td>female</td>\n      <td>29</td>\n      <td>0</td>\n      <td>0</td>\n      <td>24160</td>\n      <td>211.3375</td>\n      <td>B5</td>\n      <td>S</td>\n      <td>2</td>\n      <td>?</td>\n      <td>St Louis, MO</td>\n    </tr>\n    <tr>\n      <th>1</th>\n      <td>1</td>\n      <td>1</td>\n      <td>Allison, Master. Hudson Trevor</td>\n      <td>male</td>\n      <td>0.9167</td>\n      <td>1</td>\n      <td>2</td>\n      <td>113781</td>\n      <td>151.55</td>\n      <td>C22 C26</td>\n      <td>S</td>\n      <td>11</td>\n      <td>?</td>\n      <td>Montreal, PQ / Chesterville, ON</td>\n    </tr>\n    <tr>\n      <th>2</th>\n      <td>1</td>\n      <td>0</td>\n      <td>Allison, Miss. Helen Loraine</td>\n      <td>female</td>\n      <td>2</td>\n      <td>1</td>\n      <td>2</td>\n      <td>113781</td>\n      <td>151.55</td>\n      <td>C22 C26</td>\n      <td>S</td>\n      <td>?</td>\n      <td>?</td>\n      <td>Montreal, PQ / Chesterville, ON</td>\n    </tr>\n    <tr>\n      <th>3</th>\n      <td>1</td>\n      <td>0</td>\n      <td>Allison, Mr. Hudson Joshua Creighton</td>\n      <td>male</td>\n      <td>30</td>\n      <td>1</td>\n      <td>2</td>\n      <td>113781</td>\n      <td>151.55</td>\n      <td>C22 C26</td>\n      <td>S</td>\n      <td>?</td>\n      <td>135</td>\n      <td>Montreal, PQ / Chesterville, ON</td>\n    </tr>\n    <tr>\n      <th>4</th>\n      <td>1</td>\n      <td>0</td>\n      <td>Allison, Mrs. Hudson J C (Bessie Waldo Daniels)</td>\n      <td>female</td>\n      <td>25</td>\n      <td>1</td>\n      <td>2</td>\n      <td>113781</td>\n      <td>151.55</td>\n      <td>C22 C26</td>\n      <td>S</td>\n      <td>?</td>\n      <td>?</td>\n      <td>Montreal, PQ / Chesterville, ON</td>\n    </tr>\n    <tr>\n      <th>5</th>\n      <td>1</td>\n      <td>1</td>\n      <td>Anderson, Mr. Harry</td>\n      <td>male</td>\n      <td>48</td>\n      <td>0</td>\n      <td>0</td>\n      <td>19952</td>\n      <td>26.55</td>\n      <td>E12</td>\n      <td>S</td>\n      <td>3</td>\n      <td>?</td>\n      <td>New York, NY</td>\n    </tr>\n    <tr>\n      <th>6</th>\n      <td>1</td>\n      <td>1</td>\n      <td>Andrews, Miss. Kornelia Theodosia</td>\n      <td>female</td>\n      <td>63</td>\n      <td>1</td>\n      <td>0</td>\n      <td>13502</td>\n      <td>77.9583</td>\n      <td>D7</td>\n      <td>S</td>\n      <td>10</td>\n      <td>?</td>\n      <td>Hudson, NY</td>\n    </tr>\n    <tr>\n      <th>7</th>\n      <td>1</td>\n      <td>0</td>\n      <td>Andrews, Mr. Thomas Jr</td>\n      <td>male</td>\n      <td>39</td>\n      <td>0</td>\n      <td>0</td>\n      <td>112050</td>\n      <td>0</td>\n      <td>A36</td>\n      <td>S</td>\n      <td>?</td>\n      <td>?</td>\n      <td>Belfast, NI</td>\n    </tr>\n    <tr>\n      <th>8</th>\n      <td>1</td>\n      <td>1</td>\n      <td>Appleton, Mrs. Edward Dale (Charlotte Lamson)</td>\n      <td>female</td>\n      <td>53</td>\n      <td>2</td>\n      <td>0</td>\n      <td>11769</td>\n      <td>51.4792</td>\n      <td>C101</td>\n      <td>S</td>\n      <td>D</td>\n      <td>?</td>\n      <td>Bayside, Queens, NY</td>\n    </tr>\n    <tr>\n      <th>9</th>\n      <td>1</td>\n      <td>0</td>\n      <td>Artagaveytia, Mr. Ramon</td>\n      <td>male</td>\n      <td>71</td>\n      <td>0</td>\n      <td>0</td>\n      <td>PC 17609</td>\n      <td>49.5042</td>\n      <td>?</td>\n      <td>C</td>\n      <td>?</td>\n      <td>22</td>\n      <td>Montevideo, Uruguay</td>\n    </tr>\n    <tr>\n      <th>10</th>\n      <td>1</td>\n      <td>0</td>\n      <td>Astor, Col. John Jacob</td>\n      <td>male</td>\n      <td>47</td>\n      <td>1</td>\n      <td>0</td>\n      <td>PC 17757</td>\n      <td>227.525</td>\n      <td>C62 C64</td>\n      <td>C</td>\n      <td>?</td>\n      <td>124</td>\n      <td>New York, NY</td>\n    </tr>\n    <tr>\n      <th>11</th>\n      <td>1</td>\n      <td>1</td>\n      <td>Astor, Mrs. John Jacob (Madeleine Talmadge Force)</td>\n      <td>female</td>\n      <td>18</td>\n      <td>1</td>\n      <td>0</td>\n      <td>PC 17757</td>\n      <td>227.525</td>\n      <td>C62 C64</td>\n      <td>C</td>\n      <td>4</td>\n      <td>?</td>\n      <td>New York, NY</td>\n    </tr>\n    <tr>\n      <th>12</th>\n      <td>1</td>\n      <td>1</td>\n      <td>Aubart, Mme. Leontine Pauline</td>\n      <td>female</td>\n      <td>24</td>\n      <td>0</td>\n      <td>0</td>\n      <td>PC 17477</td>\n      <td>69.3</td>\n      <td>B35</td>\n      <td>C</td>\n      <td>9</td>\n      <td>?</td>\n      <td>Paris, France</td>\n    </tr>\n    <tr>\n      <th>13</th>\n      <td>1</td>\n      <td>1</td>\n      <td>Barber, Miss. Ellen 'Nellie'</td>\n      <td>female</td>\n      <td>26</td>\n      <td>0</td>\n      <td>0</td>\n      <td>19877</td>\n      <td>78.85</td>\n      <td>?</td>\n      <td>S</td>\n      <td>6</td>\n      <td>?</td>\n      <td>?</td>\n    </tr>\n    <tr>\n      <th>14</th>\n      <td>1</td>\n      <td>1</td>\n      <td>Barkworth, Mr. Algernon Henry Wilson</td>\n      <td>male</td>\n      <td>80</td>\n      <td>0</td>\n      <td>0</td>\n      <td>27042</td>\n      <td>30</td>\n      <td>A23</td>\n      <td>S</td>\n      <td>B</td>\n      <td>?</td>\n      <td>Hessle, Yorks</td>\n    </tr>\n    <tr>\n      <th>15</th>\n      <td>1</td>\n      <td>0</td>\n      <td>Baumann, Mr. John D</td>\n      <td>male</td>\n      <td>?</td>\n      <td>0</td>\n      <td>0</td>\n      <td>PC 17318</td>\n      <td>25.925</td>\n      <td>?</td>\n      <td>S</td>\n      <td>?</td>\n      <td>?</td>\n      <td>New York, NY</td>\n    </tr>\n    <tr>\n      <th>16</th>\n      <td>1</td>\n      <td>0</td>\n      <td>Baxter, Mr. Quigg Edmond</td>\n      <td>male</td>\n      <td>24</td>\n      <td>0</td>\n      <td>1</td>\n      <td>PC 17558</td>\n      <td>247.5208</td>\n      <td>B58 B60</td>\n      <td>C</td>\n      <td>?</td>\n      <td>?</td>\n      <td>Montreal, PQ</td>\n    </tr>\n    <tr>\n      <th>17</th>\n      <td>1</td>\n      <td>1</td>\n      <td>Baxter, Mrs. James (Helene DeLaudeniere Chaput)</td>\n      <td>female</td>\n      <td>50</td>\n      <td>0</td>\n      <td>1</td>\n      <td>PC 17558</td>\n      <td>247.5208</td>\n      <td>B58 B60</td>\n      <td>C</td>\n      <td>6</td>\n      <td>?</td>\n      <td>Montreal, PQ</td>\n    </tr>\n    <tr>\n      <th>18</th>\n      <td>1</td>\n      <td>1</td>\n      <td>Bazzani, Miss. Albina</td>\n      <td>female</td>\n      <td>32</td>\n      <td>0</td>\n      <td>0</td>\n      <td>11813</td>\n      <td>76.2917</td>\n      <td>D15</td>\n      <td>C</td>\n      <td>8</td>\n      <td>?</td>\n      <td>?</td>\n    </tr>\n    <tr>\n      <th>19</th>\n      <td>1</td>\n      <td>0</td>\n      <td>Beattie, Mr. Thomson</td>\n      <td>male</td>\n      <td>36</td>\n      <td>0</td>\n      <td>0</td>\n      <td>13050</td>\n      <td>75.2417</td>\n      <td>C6</td>\n      <td>C</td>\n      <td>A</td>\n      <td>?</td>\n      <td>Winnipeg, MN</td>\n    </tr>\n  </tbody>\n</table>\n</div>"
     },
     "execution_count": 3,
     "metadata": {},
     "output_type": "execute_result"
    }
   ],
   "source": [
    "Titanic = pd.read_csv('Titanic.csv')\n",
    "Titanic.head(20)"
   ],
   "metadata": {
    "collapsed": false
   }
  },
  {
   "cell_type": "markdown",
   "source": [
    "### 2. Dokonaj wstępnej inspekcji pierwszych 20 wierszy. Co widzisz?\n",
    "Analiza wstępna 20 pierwszych wierszy pokazała, że w zbiorze znajdują się dane brakujące, które oznaczone są \"?\". Wstępnie najwięcej z nich widać w kolumnach \"boat\" oraz \"body\"."
   ],
   "metadata": {
    "collapsed": false
   }
  },
  {
   "cell_type": "markdown",
   "source": [
    "### 3. Sprawdź ile jest wartości brakujących używając funkcji pd.isnull().sum() oraz pd.isnull().mean.\n",
    "\n",
    "Uwaga! Jest ich więcej niż 0. Czy zbiór danych należy zmodyfikować\n",
    "przed użyciem w/w funkcji? Jeśli tak to jak? → wystarczy jedna linia\n",
    "kodu:\n",
    "\n",
    "Tak, zbiór przed użyciem funkcji należy zmodyfikować w taki sposób, aby brakujące dane oznaczone \"?\" były wartościami NaN w zbiorze, zamiany dokonuję poprzez funkcję replace().\n"
   ],
   "metadata": {
    "collapsed": false
   }
  },
  {
   "cell_type": "code",
   "execution_count": 4,
   "outputs": [
    {
     "name": "stdout",
     "output_type": "stream",
     "text": [
      "pclass          0\n",
      "survived        0\n",
      "name            0\n",
      "sex             0\n",
      "age           263\n",
      "sibsp           0\n",
      "parch           0\n",
      "ticket          0\n",
      "fare            1\n",
      "cabin        1014\n",
      "embarked        2\n",
      "boat          823\n",
      "body         1188\n",
      "home.dest     564\n",
      "dtype: int64\n"
     ]
    }
   ],
   "source": [
    "Titanic=Titanic.replace('?',np.NaN)\n",
    "missing_v = Titanic.isnull().sum()\n",
    "print(missing_v)"
   ],
   "metadata": {
    "collapsed": false
   }
  },
  {
   "cell_type": "code",
   "execution_count": 5,
   "outputs": [
    {
     "name": "stdout",
     "output_type": "stream",
     "text": [
      "pclass       0.000000\n",
      "survived     0.000000\n",
      "name         0.000000\n",
      "sex          0.000000\n",
      "age          0.200917\n",
      "sibsp        0.000000\n",
      "parch        0.000000\n",
      "ticket       0.000000\n",
      "fare         0.000764\n",
      "cabin        0.774637\n",
      "embarked     0.001528\n",
      "boat         0.628724\n",
      "body         0.907563\n",
      "home.dest    0.430863\n",
      "dtype: float64\n"
     ]
    }
   ],
   "source": [
    "missing_v_mean = Titanic.isnull().mean()\n",
    "print(missing_v_mean)"
   ],
   "metadata": {
    "collapsed": false
   }
  },
  {
   "cell_type": "markdown",
   "source": [
    "### W sprawozdaniu zapisz swoje obserwację i skomentuj % brakujących danych w zależności od danej zmiennej.\n",
    "\n",
    "Po wyświetleniu % brakujących danych w zależności od zmiennej można zauważyć, że najwięcej braków ma zmienna body, bo aż 91%, następnie zmienna cabin 77%, zmienna boat 63%, zmienna home.dest 43%, zmienna age 20%, braki mniejsze od 1% można zaobserwować w zmiennych fare oraz embarked.\n"
   ],
   "metadata": {
    "collapsed": false
   }
  },
  {
   "cell_type": "markdown",
   "source": [
    "### 4. Zastanów się z jakim rodzajem braków danych masz do czynienia\n",
    "całkowicie przypadkowe (MCAR), przypadkowe (MAR) czy nie przypadkowe (MNAR). Swój wybór uzasadnij. Pamiętaj, że są to dane tragicznego rejsu, w którym spora część pasażerów nie przeżyła."
   ],
   "metadata": {
    "collapsed": false
   }
  },
  {
   "cell_type": "code",
   "execution_count": 6,
   "outputs": [
    {
     "data": {
      "text/plain": "survived\n0    0.234858\n1    0.146000\nName: ageNull, dtype: float64"
     },
     "execution_count": 6,
     "metadata": {},
     "output_type": "execute_result"
    }
   ],
   "source": [
    "Titanic['ageNull'] = np.where(Titanic['age'].isnull(),1,0)\n",
    "Titanic.groupby(['survived'])['ageNull'].mean()"
   ],
   "metadata": {
    "collapsed": false
   }
  },
  {
   "cell_type": "code",
   "execution_count": 7,
   "outputs": [
    {
     "data": {
      "text/plain": "survived\n0    0.234858\n1    0.146000\nName: age, dtype: float64"
     },
     "execution_count": 7,
     "metadata": {},
     "output_type": "execute_result"
    }
   ],
   "source": [
    "Titanic['age'].isna().groupby(Titanic['survived']).mean()"
   ],
   "metadata": {
    "collapsed": false
   }
  },
  {
   "cell_type": "code",
   "execution_count": 8,
   "outputs": [
    {
     "data": {
      "text/plain": "               age      fare     cabin  embarked      boat      body  \\\nsurvived                                                               \n0         0.234858  0.001236  0.873918     0.000  0.988875  0.850433   \n1         0.146000  0.000000  0.614000     0.004  0.046000  1.000000   \n\n          home.dest  \nsurvived             \n0          0.508035  \n1          0.306000  ",
      "text/html": "<div>\n<style scoped>\n    .dataframe tbody tr th:only-of-type {\n        vertical-align: middle;\n    }\n\n    .dataframe tbody tr th {\n        vertical-align: top;\n    }\n\n    .dataframe thead th {\n        text-align: right;\n    }\n</style>\n<table border=\"1\" class=\"dataframe\">\n  <thead>\n    <tr style=\"text-align: right;\">\n      <th></th>\n      <th>age</th>\n      <th>fare</th>\n      <th>cabin</th>\n      <th>embarked</th>\n      <th>boat</th>\n      <th>body</th>\n      <th>home.dest</th>\n    </tr>\n    <tr>\n      <th>survived</th>\n      <th></th>\n      <th></th>\n      <th></th>\n      <th></th>\n      <th></th>\n      <th></th>\n      <th></th>\n    </tr>\n  </thead>\n  <tbody>\n    <tr>\n      <th>0</th>\n      <td>0.234858</td>\n      <td>0.001236</td>\n      <td>0.873918</td>\n      <td>0.000</td>\n      <td>0.988875</td>\n      <td>0.850433</td>\n      <td>0.508035</td>\n    </tr>\n    <tr>\n      <th>1</th>\n      <td>0.146000</td>\n      <td>0.000000</td>\n      <td>0.614000</td>\n      <td>0.004</td>\n      <td>0.046000</td>\n      <td>1.000000</td>\n      <td>0.306000</td>\n    </tr>\n  </tbody>\n</table>\n</div>"
     },
     "execution_count": 8,
     "metadata": {},
     "output_type": "execute_result"
    }
   ],
   "source": [
    "Titanic[['age','fare','cabin','embarked','boat','body','home.dest']].isnull().groupby(Titanic['survived']).mean()"
   ],
   "metadata": {
    "collapsed": false
   }
  },
  {
   "cell_type": "markdown",
   "source": [
    "Analizując dane brakujące w poszczególnych kolumnach, można stwierdzić, że braki są znaczące dla analizy, nie są one przypadkowe, są to braki typu MNAR.\n",
    "Np. to, że dla 85% danych związanych z osobami, które nie przeżyły, numer identyfikacji ciała jest nieznany. Dodatkowo brakujące wartości występują w danych z informacją o łodziach ratunkowych i dane pokazują, że dla osób, które nie przeżyły mamy aż 98% brakującyh wartośći, natomiast tylko 5% braków dla osób które przeżyły. Nasuwa się tu wniosek, że większość braków informacji występuje tam, gdzie osoba nie przeżyła katastrofy. Prawdopodobnie są to osoby, które nie zostały zidentyfikowane lub nie było o tych osobach wszystkich informacji. Katastrofa wydarzyła się kilkaset lat temu, trzeba też wziąć pod uwagę fakt, że dane mogły nie zostać zebrane od razu po katastrofie lub mogły też np. zaginąć, ulec zniszczeniu."
   ],
   "metadata": {
    "collapsed": false
   }
  },
  {
   "cell_type": "markdown",
   "source": [
    "### 5. Po powyższej analizie odpowiedz na pytanie w jaki sposób należy postąpić z brakującymi wartościami.\n",
    "\n",
    "- nawiązując do kolumn \"fare\" oraz \"embarked\" braki danych można uznać za całkowicie przypadkowe i je usunąć, ponieważ procent takich danych jest mniejszy od 1%;\n",
    "- dane w kolumnach cabin, boat, body oraz home.dest można umieścić w nowej kategorii missing, z której można by było wyciągnąć istotne wnioski;\n",
    "- brak danych związany z kolumną age nie jest zbyt wysoki, lecz istony i można brakujące dane uzupełnić np. wartością średnią"
   ],
   "metadata": {
    "collapsed": false
   }
  },
  {
   "cell_type": "code",
   "execution_count": 9,
   "outputs": [
    {
     "data": {
      "text/plain": "    pclass  survived                                               name  \\\n0        1         1                      Allen, Miss. Elisabeth Walton   \n1        1         1                     Allison, Master. Hudson Trevor   \n2        1         0                       Allison, Miss. Helen Loraine   \n3        1         0               Allison, Mr. Hudson Joshua Creighton   \n4        1         0    Allison, Mrs. Hudson J C (Bessie Waldo Daniels)   \n5        1         1                                Anderson, Mr. Harry   \n6        1         1                  Andrews, Miss. Kornelia Theodosia   \n7        1         0                             Andrews, Mr. Thomas Jr   \n8        1         1      Appleton, Mrs. Edward Dale (Charlotte Lamson)   \n9        1         0                            Artagaveytia, Mr. Ramon   \n10       1         0                             Astor, Col. John Jacob   \n11       1         1  Astor, Mrs. John Jacob (Madeleine Talmadge Force)   \n12       1         1                      Aubart, Mme. Leontine Pauline   \n13       1         1                       Barber, Miss. Ellen 'Nellie'   \n14       1         1               Barkworth, Mr. Algernon Henry Wilson   \n15       1         0                                Baumann, Mr. John D   \n16       1         0                           Baxter, Mr. Quigg Edmond   \n17       1         1    Baxter, Mrs. James (Helene DeLaudeniere Chaput)   \n18       1         1                              Bazzani, Miss. Albina   \n19       1         0                               Beattie, Mr. Thomson   \n\n       sex     age  sibsp  parch    ticket      fare    cabin embarked boat  \\\n0   female      29      0      0     24160  211.3375       B5        S    2   \n1     male  0.9167      1      2    113781    151.55  C22 C26        S   11   \n2   female       2      1      2    113781    151.55  C22 C26        S  NaN   \n3     male      30      1      2    113781    151.55  C22 C26        S  NaN   \n4   female      25      1      2    113781    151.55  C22 C26        S  NaN   \n5     male      48      0      0     19952     26.55      E12        S    3   \n6   female      63      1      0     13502   77.9583       D7        S   10   \n7     male      39      0      0    112050         0      A36        S  NaN   \n8   female      53      2      0     11769   51.4792     C101        S    D   \n9     male      71      0      0  PC 17609   49.5042      NaN        C  NaN   \n10    male      47      1      0  PC 17757   227.525  C62 C64        C  NaN   \n11  female      18      1      0  PC 17757   227.525  C62 C64        C    4   \n12  female      24      0      0  PC 17477      69.3      B35        C    9   \n13  female      26      0      0     19877     78.85      NaN        S    6   \n14    male      80      0      0     27042        30      A23        S    B   \n15    male     NaN      0      0  PC 17318    25.925      NaN        S  NaN   \n16    male      24      0      1  PC 17558  247.5208  B58 B60        C  NaN   \n17  female      50      0      1  PC 17558  247.5208  B58 B60        C    6   \n18  female      32      0      0     11813   76.2917      D15        C    8   \n19    male      36      0      0     13050   75.2417       C6        C    A   \n\n   body                        home.dest  ageNull  \n0   NaN                     St Louis, MO        0  \n1   NaN  Montreal, PQ / Chesterville, ON        0  \n2   NaN  Montreal, PQ / Chesterville, ON        0  \n3   135  Montreal, PQ / Chesterville, ON        0  \n4   NaN  Montreal, PQ / Chesterville, ON        0  \n5   NaN                     New York, NY        0  \n6   NaN                       Hudson, NY        0  \n7   NaN                      Belfast, NI        0  \n8   NaN              Bayside, Queens, NY        0  \n9    22              Montevideo, Uruguay        0  \n10  124                     New York, NY        0  \n11  NaN                     New York, NY        0  \n12  NaN                    Paris, France        0  \n13  NaN                              NaN        0  \n14  NaN                    Hessle, Yorks        0  \n15  NaN                     New York, NY        1  \n16  NaN                     Montreal, PQ        0  \n17  NaN                     Montreal, PQ        0  \n18  NaN                              NaN        0  \n19  NaN                     Winnipeg, MN        0  ",
      "text/html": "<div>\n<style scoped>\n    .dataframe tbody tr th:only-of-type {\n        vertical-align: middle;\n    }\n\n    .dataframe tbody tr th {\n        vertical-align: top;\n    }\n\n    .dataframe thead th {\n        text-align: right;\n    }\n</style>\n<table border=\"1\" class=\"dataframe\">\n  <thead>\n    <tr style=\"text-align: right;\">\n      <th></th>\n      <th>pclass</th>\n      <th>survived</th>\n      <th>name</th>\n      <th>sex</th>\n      <th>age</th>\n      <th>sibsp</th>\n      <th>parch</th>\n      <th>ticket</th>\n      <th>fare</th>\n      <th>cabin</th>\n      <th>embarked</th>\n      <th>boat</th>\n      <th>body</th>\n      <th>home.dest</th>\n      <th>ageNull</th>\n    </tr>\n  </thead>\n  <tbody>\n    <tr>\n      <th>0</th>\n      <td>1</td>\n      <td>1</td>\n      <td>Allen, Miss. Elisabeth Walton</td>\n      <td>female</td>\n      <td>29</td>\n      <td>0</td>\n      <td>0</td>\n      <td>24160</td>\n      <td>211.3375</td>\n      <td>B5</td>\n      <td>S</td>\n      <td>2</td>\n      <td>NaN</td>\n      <td>St Louis, MO</td>\n      <td>0</td>\n    </tr>\n    <tr>\n      <th>1</th>\n      <td>1</td>\n      <td>1</td>\n      <td>Allison, Master. Hudson Trevor</td>\n      <td>male</td>\n      <td>0.9167</td>\n      <td>1</td>\n      <td>2</td>\n      <td>113781</td>\n      <td>151.55</td>\n      <td>C22 C26</td>\n      <td>S</td>\n      <td>11</td>\n      <td>NaN</td>\n      <td>Montreal, PQ / Chesterville, ON</td>\n      <td>0</td>\n    </tr>\n    <tr>\n      <th>2</th>\n      <td>1</td>\n      <td>0</td>\n      <td>Allison, Miss. Helen Loraine</td>\n      <td>female</td>\n      <td>2</td>\n      <td>1</td>\n      <td>2</td>\n      <td>113781</td>\n      <td>151.55</td>\n      <td>C22 C26</td>\n      <td>S</td>\n      <td>NaN</td>\n      <td>NaN</td>\n      <td>Montreal, PQ / Chesterville, ON</td>\n      <td>0</td>\n    </tr>\n    <tr>\n      <th>3</th>\n      <td>1</td>\n      <td>0</td>\n      <td>Allison, Mr. Hudson Joshua Creighton</td>\n      <td>male</td>\n      <td>30</td>\n      <td>1</td>\n      <td>2</td>\n      <td>113781</td>\n      <td>151.55</td>\n      <td>C22 C26</td>\n      <td>S</td>\n      <td>NaN</td>\n      <td>135</td>\n      <td>Montreal, PQ / Chesterville, ON</td>\n      <td>0</td>\n    </tr>\n    <tr>\n      <th>4</th>\n      <td>1</td>\n      <td>0</td>\n      <td>Allison, Mrs. Hudson J C (Bessie Waldo Daniels)</td>\n      <td>female</td>\n      <td>25</td>\n      <td>1</td>\n      <td>2</td>\n      <td>113781</td>\n      <td>151.55</td>\n      <td>C22 C26</td>\n      <td>S</td>\n      <td>NaN</td>\n      <td>NaN</td>\n      <td>Montreal, PQ / Chesterville, ON</td>\n      <td>0</td>\n    </tr>\n    <tr>\n      <th>5</th>\n      <td>1</td>\n      <td>1</td>\n      <td>Anderson, Mr. Harry</td>\n      <td>male</td>\n      <td>48</td>\n      <td>0</td>\n      <td>0</td>\n      <td>19952</td>\n      <td>26.55</td>\n      <td>E12</td>\n      <td>S</td>\n      <td>3</td>\n      <td>NaN</td>\n      <td>New York, NY</td>\n      <td>0</td>\n    </tr>\n    <tr>\n      <th>6</th>\n      <td>1</td>\n      <td>1</td>\n      <td>Andrews, Miss. Kornelia Theodosia</td>\n      <td>female</td>\n      <td>63</td>\n      <td>1</td>\n      <td>0</td>\n      <td>13502</td>\n      <td>77.9583</td>\n      <td>D7</td>\n      <td>S</td>\n      <td>10</td>\n      <td>NaN</td>\n      <td>Hudson, NY</td>\n      <td>0</td>\n    </tr>\n    <tr>\n      <th>7</th>\n      <td>1</td>\n      <td>0</td>\n      <td>Andrews, Mr. Thomas Jr</td>\n      <td>male</td>\n      <td>39</td>\n      <td>0</td>\n      <td>0</td>\n      <td>112050</td>\n      <td>0</td>\n      <td>A36</td>\n      <td>S</td>\n      <td>NaN</td>\n      <td>NaN</td>\n      <td>Belfast, NI</td>\n      <td>0</td>\n    </tr>\n    <tr>\n      <th>8</th>\n      <td>1</td>\n      <td>1</td>\n      <td>Appleton, Mrs. Edward Dale (Charlotte Lamson)</td>\n      <td>female</td>\n      <td>53</td>\n      <td>2</td>\n      <td>0</td>\n      <td>11769</td>\n      <td>51.4792</td>\n      <td>C101</td>\n      <td>S</td>\n      <td>D</td>\n      <td>NaN</td>\n      <td>Bayside, Queens, NY</td>\n      <td>0</td>\n    </tr>\n    <tr>\n      <th>9</th>\n      <td>1</td>\n      <td>0</td>\n      <td>Artagaveytia, Mr. Ramon</td>\n      <td>male</td>\n      <td>71</td>\n      <td>0</td>\n      <td>0</td>\n      <td>PC 17609</td>\n      <td>49.5042</td>\n      <td>NaN</td>\n      <td>C</td>\n      <td>NaN</td>\n      <td>22</td>\n      <td>Montevideo, Uruguay</td>\n      <td>0</td>\n    </tr>\n    <tr>\n      <th>10</th>\n      <td>1</td>\n      <td>0</td>\n      <td>Astor, Col. John Jacob</td>\n      <td>male</td>\n      <td>47</td>\n      <td>1</td>\n      <td>0</td>\n      <td>PC 17757</td>\n      <td>227.525</td>\n      <td>C62 C64</td>\n      <td>C</td>\n      <td>NaN</td>\n      <td>124</td>\n      <td>New York, NY</td>\n      <td>0</td>\n    </tr>\n    <tr>\n      <th>11</th>\n      <td>1</td>\n      <td>1</td>\n      <td>Astor, Mrs. John Jacob (Madeleine Talmadge Force)</td>\n      <td>female</td>\n      <td>18</td>\n      <td>1</td>\n      <td>0</td>\n      <td>PC 17757</td>\n      <td>227.525</td>\n      <td>C62 C64</td>\n      <td>C</td>\n      <td>4</td>\n      <td>NaN</td>\n      <td>New York, NY</td>\n      <td>0</td>\n    </tr>\n    <tr>\n      <th>12</th>\n      <td>1</td>\n      <td>1</td>\n      <td>Aubart, Mme. Leontine Pauline</td>\n      <td>female</td>\n      <td>24</td>\n      <td>0</td>\n      <td>0</td>\n      <td>PC 17477</td>\n      <td>69.3</td>\n      <td>B35</td>\n      <td>C</td>\n      <td>9</td>\n      <td>NaN</td>\n      <td>Paris, France</td>\n      <td>0</td>\n    </tr>\n    <tr>\n      <th>13</th>\n      <td>1</td>\n      <td>1</td>\n      <td>Barber, Miss. Ellen 'Nellie'</td>\n      <td>female</td>\n      <td>26</td>\n      <td>0</td>\n      <td>0</td>\n      <td>19877</td>\n      <td>78.85</td>\n      <td>NaN</td>\n      <td>S</td>\n      <td>6</td>\n      <td>NaN</td>\n      <td>NaN</td>\n      <td>0</td>\n    </tr>\n    <tr>\n      <th>14</th>\n      <td>1</td>\n      <td>1</td>\n      <td>Barkworth, Mr. Algernon Henry Wilson</td>\n      <td>male</td>\n      <td>80</td>\n      <td>0</td>\n      <td>0</td>\n      <td>27042</td>\n      <td>30</td>\n      <td>A23</td>\n      <td>S</td>\n      <td>B</td>\n      <td>NaN</td>\n      <td>Hessle, Yorks</td>\n      <td>0</td>\n    </tr>\n    <tr>\n      <th>15</th>\n      <td>1</td>\n      <td>0</td>\n      <td>Baumann, Mr. John D</td>\n      <td>male</td>\n      <td>NaN</td>\n      <td>0</td>\n      <td>0</td>\n      <td>PC 17318</td>\n      <td>25.925</td>\n      <td>NaN</td>\n      <td>S</td>\n      <td>NaN</td>\n      <td>NaN</td>\n      <td>New York, NY</td>\n      <td>1</td>\n    </tr>\n    <tr>\n      <th>16</th>\n      <td>1</td>\n      <td>0</td>\n      <td>Baxter, Mr. Quigg Edmond</td>\n      <td>male</td>\n      <td>24</td>\n      <td>0</td>\n      <td>1</td>\n      <td>PC 17558</td>\n      <td>247.5208</td>\n      <td>B58 B60</td>\n      <td>C</td>\n      <td>NaN</td>\n      <td>NaN</td>\n      <td>Montreal, PQ</td>\n      <td>0</td>\n    </tr>\n    <tr>\n      <th>17</th>\n      <td>1</td>\n      <td>1</td>\n      <td>Baxter, Mrs. James (Helene DeLaudeniere Chaput)</td>\n      <td>female</td>\n      <td>50</td>\n      <td>0</td>\n      <td>1</td>\n      <td>PC 17558</td>\n      <td>247.5208</td>\n      <td>B58 B60</td>\n      <td>C</td>\n      <td>6</td>\n      <td>NaN</td>\n      <td>Montreal, PQ</td>\n      <td>0</td>\n    </tr>\n    <tr>\n      <th>18</th>\n      <td>1</td>\n      <td>1</td>\n      <td>Bazzani, Miss. Albina</td>\n      <td>female</td>\n      <td>32</td>\n      <td>0</td>\n      <td>0</td>\n      <td>11813</td>\n      <td>76.2917</td>\n      <td>D15</td>\n      <td>C</td>\n      <td>8</td>\n      <td>NaN</td>\n      <td>NaN</td>\n      <td>0</td>\n    </tr>\n    <tr>\n      <th>19</th>\n      <td>1</td>\n      <td>0</td>\n      <td>Beattie, Mr. Thomson</td>\n      <td>male</td>\n      <td>36</td>\n      <td>0</td>\n      <td>0</td>\n      <td>13050</td>\n      <td>75.2417</td>\n      <td>C6</td>\n      <td>C</td>\n      <td>A</td>\n      <td>NaN</td>\n      <td>Winnipeg, MN</td>\n      <td>0</td>\n    </tr>\n  </tbody>\n</table>\n</div>"
     },
     "execution_count": 9,
     "metadata": {},
     "output_type": "execute_result"
    }
   ],
   "source": [
    "Titanic.head(20)"
   ],
   "metadata": {
    "collapsed": false
   }
  },
  {
   "cell_type": "code",
   "execution_count": 11,
   "outputs": [],
   "source": [
    "Titanic.to_csv('Titanic2.csv')"
   ],
   "metadata": {
    "collapsed": false
   }
  },
  {
   "cell_type": "code",
   "execution_count": null,
   "outputs": [],
   "source": [],
   "metadata": {
    "collapsed": false
   }
  }
 ],
 "metadata": {
  "kernelspec": {
   "display_name": "ml_moje",
   "language": "python",
   "name": "ml_moje"
  },
  "language_info": {
   "codemirror_mode": {
    "name": "ipython",
    "version": 3
   },
   "file_extension": ".py",
   "mimetype": "text/x-python",
   "name": "python",
   "nbconvert_exporter": "python",
   "pygments_lexer": "ipython3",
   "version": "3.6.7"
  }
 },
 "nbformat": 4,
 "nbformat_minor": 5
}
